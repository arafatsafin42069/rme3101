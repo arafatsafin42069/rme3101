{
 "cells": [
  {
   "cell_type": "code",
   "execution_count": 15,
   "metadata": {},
   "outputs": [],
   "source": [
    "import time"
   ]
  },
  {
   "cell_type": "code",
   "execution_count": 19,
   "metadata": {},
   "outputs": [],
   "source": [
    "path_dictionary = {}\n",
    "path = []\n",
    "\n",
    "def dfs(graph, set_of_visited, initial_node, target_node):\n",
    "    global path_dictionary\n",
    "    if initial_node not in set_of_visited:\n",
    "        path.append(initial_node)\n",
    "        set_of_visited.add(initial_node)\n",
    "        if(initial_node == target_node):\n",
    "            print(\"Found the Node\")\n",
    "            print(\"path it followed: \", path_dictionary)\n",
    "            return 1\n",
    "        print(f\"visiting node: {initial_node}, child nodes: {graph[initial_node]}\")\n",
    "        time.sleep(0.2)\n",
    "        for child_node in graph[initial_node]:\n",
    "            path_dictionary[initial_node] = child_node\n",
    "            dfs(graph, set_of_visited, child_node, target_node)\n",
    "    else:\n",
    "        print(\"Loop Detected from node: \", initial_node)\n"
   ]
  },
  {
   "cell_type": "code",
   "execution_count": 20,
   "metadata": {},
   "outputs": [
    {
     "name": "stdout",
     "output_type": "stream",
     "text": [
      "visiting node: 2, child nodes: ['1', '3', '4', '5']\n",
      "visiting node: 1, child nodes: ['0', '3', '2', '5', '6']\n",
      "visiting node: 0, child nodes: ['1', '3']\n",
      "Loop Detected from node:  1\n",
      "visiting node: 3, child nodes: ['0', '1', '2', '4']\n",
      "Loop Detected from node:  0\n",
      "Loop Detected from node:  1\n",
      "Loop Detected from node:  2\n",
      "visiting node: 4, child nodes: ['3', '2', '6']\n",
      "Loop Detected from node:  3\n",
      "Loop Detected from node:  2\n",
      "visiting node: 6, child nodes: ['1', '4']\n",
      "Loop Detected from node:  1\n",
      "Loop Detected from node:  4\n",
      "Loop Detected from node:  3\n",
      "Loop Detected from node:  2\n",
      "visiting node: 5, child nodes: ['2', '1']\n",
      "Loop Detected from node:  2\n",
      "Loop Detected from node:  1\n",
      "Loop Detected from node:  6\n",
      "Loop Detected from node:  3\n",
      "Loop Detected from node:  4\n",
      "Loop Detected from node:  5\n",
      "['2', '1', '0', '3', '4', '6', '5']\n"
     ]
    }
   ],
   "source": [
    "\n",
    "graph = {\n",
    "  '0':['1','3'],\n",
    "  '1':['0','3', '2', '5', '6'],\n",
    "  '3': ['0','1','2','4'],\n",
    "  '2': ['1','3','4','5'],\n",
    "  '4': ['3','2','6'],\n",
    "  '5': ['2','1'],\n",
    "  '6': ['1','4']\n",
    "}\n",
    "set_of_visited = set()\n",
    "dfs(graph, set_of_visited, initial_node=\"2\",target_node= \"8\")\n",
    "print(path)"
   ]
  }
 ],
 "metadata": {
  "kernelspec": {
   "display_name": "base",
   "language": "python",
   "name": "python3"
  },
  "language_info": {
   "codemirror_mode": {
    "name": "ipython",
    "version": 3
   },
   "file_extension": ".py",
   "mimetype": "text/x-python",
   "name": "python",
   "nbconvert_exporter": "python",
   "pygments_lexer": "ipython3",
   "version": "3.9.13"
  }
 },
 "nbformat": 4,
 "nbformat_minor": 2
}
