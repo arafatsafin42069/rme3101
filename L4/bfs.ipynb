{
 "cells": [
  {
   "cell_type": "code",
   "execution_count": 1,
   "metadata": {},
   "outputs": [],
   "source": [
    "import time "
   ]
  },
  {
   "cell_type": "code",
   "execution_count": 19,
   "metadata": {},
   "outputs": [
    {
     "name": "stdout",
     "output_type": "stream",
     "text": [
      "Following is the Breadth-First Search\n",
      "5 3 7 2 4 8 "
     ]
    }
   ],
   "source": [
    "graph = {\n",
    "  '5' : ['3','7'],\n",
    "  '3' : ['2', '4'],\n",
    "  '7' : ['8'],\n",
    "  '2' : [],\n",
    "  '4' : ['8'],\n",
    "  '8' : []\n",
    "}\n",
    "\n",
    "visited = [] \n",
    "queue = []     \n",
    "\n",
    "def bfs(visited, graph, node): \n",
    "  visited.append(node)\n",
    "  queue.append(node)\n",
    "\n",
    "  while queue:          \n",
    "    m = queue.pop(0) \n",
    "    print (m, end = \" \") \n",
    "\n",
    "    for neighbour in graph[m]:\n",
    "      if neighbour not in visited:\n",
    "        visited.append(neighbour)\n",
    "        queue.append(neighbour)\n",
    "\n",
    "print(\"Following is the Breadth-First Search\")\n",
    "bfs(visited, graph, '5')    "
   ]
  },
  {
   "cell_type": "code",
   "execution_count": 9,
   "metadata": {},
   "outputs": [
    {
     "name": "stdout",
     "output_type": "stream",
     "text": [
      "BFS Result: \n",
      "visiting:  0 current queue:  []\n",
      "visiting:  1 current queue:  ['3']\n",
      "Loop detected at node:  0\n",
      "Loop detected at node:  3\n",
      "visiting:  3 current queue:  ['2', '5', '6']\n",
      "Loop detected at node:  0\n",
      "Loop detected at node:  1\n",
      "Loop detected at node:  2\n",
      "visiting:  2 current queue:  ['5', '6', '4']\n",
      "Loop detected at node:  1\n",
      "Loop detected at node:  3\n",
      "Loop detected at node:  4\n",
      "Loop detected at node:  5\n",
      "visiting:  5 current queue:  ['6', '4']\n",
      "Loop detected at node:  2\n",
      "Loop detected at node:  1\n",
      "visiting:  6 current queue:  ['4']\n",
      "Loop detected at node:  1\n",
      "Loop detected at node:  4\n",
      "visiting:  4 current queue:  []\n",
      "Loop detected at node:  3\n",
      "Loop detected at node:  2\n",
      "Loop detected at node:  6\n",
      "['0', '1', '3', '2', '5', '6', '4']\n"
     ]
    }
   ],
   "source": [
    "graph = {\n",
    "  '0':['1','3'],\n",
    "  '1':['0','3', '2', '5', '6'],\n",
    "  '3': ['0','1','2','4'],\n",
    "  '2': ['1','3','4','5'],\n",
    "  '4': ['3','2','6'],\n",
    "  '5': ['2','1'],\n",
    "  '6': ['1','4']\n",
    "}\n",
    "\n",
    "visited = [] \n",
    "queue = [] \n",
    "\n",
    "path = []\n",
    "\n",
    "def bfs(visited, graph, node): \n",
    "  visited.append(node)\n",
    "  queue.append(node)\n",
    "\n",
    "  while queue:          \n",
    "    m = queue.pop(0) \n",
    "    print (\"visiting: \", m, \"current queue: \", queue) \n",
    "    path.append(m)\n",
    "    time.sleep(0.2)\n",
    "\n",
    "    for neighbour in graph[m]:\n",
    "        if neighbour not in visited:\n",
    "            visited.append(neighbour)\n",
    "            queue.append(neighbour)\n",
    "        else:\n",
    "           print(\"Loop detected at node: \", neighbour)\n",
    "\n",
    "\n",
    "print(\"BFS Result: \")\n",
    "bfs(visited, graph, '0')  \n",
    "print(path)  "
   ]
  }
 ],
 "metadata": {
  "kernelspec": {
   "display_name": "base",
   "language": "python",
   "name": "python3"
  },
  "language_info": {
   "codemirror_mode": {
    "name": "ipython",
    "version": 3
   },
   "file_extension": ".py",
   "mimetype": "text/x-python",
   "name": "python",
   "nbconvert_exporter": "python",
   "pygments_lexer": "ipython3",
   "version": "3.9.13"
  }
 },
 "nbformat": 4,
 "nbformat_minor": 2
}
