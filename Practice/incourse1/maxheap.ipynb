{
 "cells": [
  {
   "cell_type": "code",
   "execution_count": 12,
   "metadata": {},
   "outputs": [],
   "source": [
    "import time"
   ]
  },
  {
   "cell_type": "code",
   "execution_count": 47,
   "metadata": {},
   "outputs": [],
   "source": [
    "class MaxHeap:\n",
    "    def __init__(self):\n",
    "        self.heap = []\n",
    "    \n",
    "    def reheapup(self):\n",
    "        if(len(self.heap) <= 1):\n",
    "            print(\"Length is not compatible for reheap up\")\n",
    "            return 1\n",
    "        \n",
    "        child_index = len(self.heap) - 1\n",
    "        parent_index = (child_index - 1) // 2\n",
    "        while(1):\n",
    "            if(self.heap[child_index] > self.heap[parent_index]):\n",
    "                #swap them\n",
    "                self.heap[child_index], self.heap[parent_index] = self.heap[parent_index], self.heap[child_index]\n",
    "            \n",
    "            print(f\"reheapup parent: {parent_index} child: {child_index} heap: {self.heap}\")\n",
    "            time.sleep(2)\n",
    "            \n",
    "            child_index = parent_index\n",
    "            parent_index = (child_index - 1) // 2\n",
    "\n",
    "            if(parent_index < 0):\n",
    "                break\n",
    "        \n",
    "\n",
    "    def reheapdown(self):\n",
    "        if(len(self.heap) <= 1):\n",
    "            print(\"Length is not compatible for reheap down\")\n",
    "            return 1\n",
    "        \n",
    "\n",
    "        parent_index = 0\n",
    "        left_child_index = 2*parent_index + 1\n",
    "        right_child_index = 2*parent_index + 2\n",
    "        max_child_index = left_child_index\n",
    "\n",
    "        while(1):\n",
    "\n",
    "            if(self.heap[left_child_index] < self.heap[right_child_index]):\n",
    "                max_child_index = right_child_index\n",
    "            else:\n",
    "                max_child_index = left_child_index\n",
    "            \n",
    "            if(self.heap[max_child_index] > self.heap[parent_index]):\n",
    "                #We have to swap them\n",
    "                self.heap[max_child_index], self.heap[parent_index] = self.heap[parent_index], self.heap[max_child_index]\n",
    "\n",
    "            print(f\"reheapdown parent: {parent_index} left_child: {left_child_index} right_child: {right_child_index} heap: {self.heap}\")\n",
    "            time.sleep(2)\n",
    "\n",
    "            parent_index = max_child_index\n",
    "            left_child_index = 2*parent_index + 1\n",
    "            right_child_index = 2*parent_index + 2\n",
    "\n",
    "            if (left_child_index >= len(self.heap)) or (right_child_index >= len(self.heap)):\n",
    "                break\n",
    "\n",
    "\n",
    "    \n",
    "    def dequeue(self):\n",
    "        root = self.heap[0]\n",
    "        self.heap[0] = self.heap[len(self.heap)-1]\n",
    "        self.heap.pop()\n",
    "        print(\"max: \", root)\n",
    "        self.reheapdown()\n",
    "        return root\n",
    "    \n",
    "        \n",
    "\n",
    "    def enqueue(self, data):\n",
    "        self.heap.append(data)\n",
    "        self.reheapup()\n",
    "        print(self.heap)\n",
    "        \n"
   ]
  },
  {
   "cell_type": "markdown",
   "metadata": {},
   "source": []
  },
  {
   "cell_type": "code",
   "execution_count": 48,
   "metadata": {},
   "outputs": [],
   "source": [
    "maxheap = MaxHeap()\n"
   ]
  },
  {
   "cell_type": "code",
   "execution_count": 56,
   "metadata": {},
   "outputs": [
    {
     "name": "stdout",
     "output_type": "stream",
     "text": [
      "reheapup parent: 3 child: 7 heap: [120, 60, 90, 40, 24, 35, 45, 1]\n",
      "reheapup parent: 1 child: 3 heap: [120, 60, 90, 40, 24, 35, 45, 1]\n",
      "reheapup parent: 0 child: 1 heap: [120, 60, 90, 40, 24, 35, 45, 1]\n",
      "[120, 60, 90, 40, 24, 35, 45, 1]\n"
     ]
    }
   ],
   "source": [
    "maxheap.enqueue(40)"
   ]
  },
  {
   "cell_type": "code",
   "execution_count": 58,
   "metadata": {},
   "outputs": [
    {
     "name": "stdout",
     "output_type": "stream",
     "text": [
      "max:  90\n",
      "reheapdown parent: 0 left_child: 1 right_child: 2 heap: [60, 1, 45, 40, 24, 35]\n",
      "reheapdown parent: 1 left_child: 3 right_child: 4 heap: [60, 40, 45, 1, 24, 35]\n"
     ]
    },
    {
     "data": {
      "text/plain": [
       "90"
      ]
     },
     "execution_count": 58,
     "metadata": {},
     "output_type": "execute_result"
    }
   ],
   "source": [
    "maxheap.dequeue()"
   ]
  },
  {
   "cell_type": "code",
   "execution_count": 42,
   "metadata": {},
   "outputs": [
    {
     "name": "stdout",
     "output_type": "stream",
     "text": [
      "[24, 90, 60, 45, 40, 35, 1]\n"
     ]
    }
   ],
   "source": [
    "print(maxheap.heap)"
   ]
  }
 ],
 "metadata": {
  "kernelspec": {
   "display_name": "base",
   "language": "python",
   "name": "python3"
  },
  "language_info": {
   "codemirror_mode": {
    "name": "ipython",
    "version": 3
   },
   "file_extension": ".py",
   "mimetype": "text/x-python",
   "name": "python",
   "nbconvert_exporter": "python",
   "pygments_lexer": "ipython3",
   "version": "3.9.13"
  }
 },
 "nbformat": 4,
 "nbformat_minor": 2
}
