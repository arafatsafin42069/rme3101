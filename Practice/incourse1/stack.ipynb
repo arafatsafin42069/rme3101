{
 "cells": [
  {
   "cell_type": "code",
   "execution_count": 4,
   "id": "df812963",
   "metadata": {},
   "outputs": [],
   "source": [
    "class Stack:\n",
    "\n",
    "    last_index = 0\n",
    "\n",
    "    def __init__(self, size = 10):\n",
    "        self.size = size\n",
    "        self.stack = []\n",
    "        for i in range(size):\n",
    "            self.stack.append(None)\n",
    "\n",
    "        print(\"Stack Created \", self.stack)\n",
    "\n",
    "\n",
    "    def enqueue(self, data):\n",
    "        if self.last_index >= self.size :\n",
    "            print(\"Not Enough Space\")\n",
    "            return 1\n",
    "        \n",
    "        self.stack.insert(self.last_index, data)\n",
    "        self.stack = self.stack[:10]\n",
    "        self.last_index = self.last_index + 1\n",
    "        print(\"Enqueued \", self.stack)\n",
    "        \n",
    "\n",
    "    def dequeue(self):\n",
    "        if self.last_index == 0:\n",
    "            print(\"Not Available Data\")\n",
    "            return 1\n",
    "\n",
    "        self.stack[self.last_index - 1] = None\n",
    "        self.last_index = self.last_index - 1\n",
    "        print(\"Dequeued\", self.stack)\n"
   ]
  },
  {
   "cell_type": "code",
   "execution_count": 5,
   "id": "8cea8638",
   "metadata": {},
   "outputs": [
    {
     "name": "stdout",
     "output_type": "stream",
     "text": [
      "Stack Created  [None, None, None, None, None, None, None, None, None, None]\n"
     ]
    }
   ],
   "source": [
    "stack = Stack(10)"
   ]
  },
  {
   "cell_type": "code",
   "execution_count": 27,
   "id": "0a3fea76",
   "metadata": {},
   "outputs": [
    {
     "name": "stdout",
     "output_type": "stream",
     "text": [
      "Not Available Data\n"
     ]
    },
    {
     "data": {
      "text/plain": [
       "1"
      ]
     },
     "execution_count": 27,
     "metadata": {},
     "output_type": "execute_result"
    }
   ],
   "source": [
    "stack.dequeue()"
   ]
  }
 ],
 "metadata": {
  "kernelspec": {
   "display_name": "Python 3 (ipykernel)",
   "language": "python",
   "name": "python3"
  },
  "language_info": {
   "codemirror_mode": {
    "name": "ipython",
    "version": 3
   },
   "file_extension": ".py",
   "mimetype": "text/x-python",
   "name": "python",
   "nbconvert_exporter": "python",
   "pygments_lexer": "ipython3",
   "version": "3.9.13"
  }
 },
 "nbformat": 4,
 "nbformat_minor": 5
}
