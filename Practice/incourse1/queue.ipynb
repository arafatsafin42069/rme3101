{
 "cells": [
  {
   "cell_type": "code",
   "execution_count": 125,
   "metadata": {},
   "outputs": [],
   "source": [
    "class Queue:\n",
    "\n",
    "    front = -1\n",
    "    back = -1\n",
    "\n",
    "    def __init__(self, size):\n",
    "        self.size = size\n",
    "        self.queue = []\n",
    "        for i in range(size):\n",
    "            self.queue.append(None)\n",
    "\n",
    "    def enqueue(self, data):\n",
    "        if self.front == -1 and self.back == -1:\n",
    "            #The first data\n",
    "            self.front = 0\n",
    "            self.back = 0\n",
    "            self.queue[self.back] = data\n",
    "            self.queue = self.queue[:self.size]\n",
    "            print(f\"Enqueued front {self.front}, back {self.back}, {self.queue}\")\n",
    "            return 3\n",
    "        \n",
    "        if (self.back + 1) % self.size == self.front:\n",
    "            print(\"The stack is full \")\n",
    "            return 1\n",
    "        \n",
    "        self.back = (self.back + 1)%self.size\n",
    "        self.queue[self.back] = data\n",
    "        self.queue = self.queue[:self.size]\n",
    "        print(f\"Enqueued front {self.front}, back {self.back}, {self.queue}\")\n",
    "\n",
    "    def dueque(self):\n",
    "        print(f\"front : {self.front}     back: {self.back}\")\n",
    "        if self.front == -1 or self.back == -1:\n",
    "            print(\"No data to dequeue\")\n",
    "            return 1\n",
    "\n",
    "        if self.front == self.back:\n",
    "            self.queue[self.front] = None\n",
    "            self.front = -1\n",
    "            self.back = -1\n",
    "            print(f\"Dequed front {self.front}, back {self.back}, {self.queue} and returnd to home\")\n",
    "            self.__init__(5)\n",
    "            return 1\n",
    "\n",
    "        \n",
    "        self.queue[self.front] = None\n",
    "        self.front = (self.front + 1)%self.size\n",
    "        print(f\"Dequed front {self.front}, back {self.back}, {self.queue}\")\n",
    "    "
   ]
  },
  {
   "cell_type": "code",
   "execution_count": 135,
   "metadata": {},
   "outputs": [],
   "source": [
    "queue = Queue(5)"
   ]
  },
  {
   "cell_type": "code",
   "execution_count": 148,
   "metadata": {},
   "outputs": [
    {
     "name": "stdout",
     "output_type": "stream",
     "text": [
      "The stack is full \n"
     ]
    },
    {
     "data": {
      "text/plain": [
       "1"
      ]
     },
     "execution_count": 148,
     "metadata": {},
     "output_type": "execute_result"
    }
   ],
   "source": [
    "queue.enqueue(5)"
   ]
  },
  {
   "cell_type": "code",
   "execution_count": 154,
   "metadata": {},
   "outputs": [
    {
     "name": "stdout",
     "output_type": "stream",
     "text": [
      "front : -1     back: -1\n",
      "No data to dequeue\n"
     ]
    },
    {
     "data": {
      "text/plain": [
       "1"
      ]
     },
     "execution_count": 154,
     "metadata": {},
     "output_type": "execute_result"
    }
   ],
   "source": [
    "queue.dueque()"
   ]
  }
 ],
 "metadata": {
  "kernelspec": {
   "display_name": "base",
   "language": "python",
   "name": "python3"
  },
  "language_info": {
   "codemirror_mode": {
    "name": "ipython",
    "version": 3
   },
   "file_extension": ".py",
   "mimetype": "text/x-python",
   "name": "python",
   "nbconvert_exporter": "python",
   "pygments_lexer": "ipython3",
   "version": "3.9.13"
  }
 },
 "nbformat": 4,
 "nbformat_minor": 2
}
