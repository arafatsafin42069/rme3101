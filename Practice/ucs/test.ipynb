{
 "cells": [
  {
   "cell_type": "code",
   "execution_count": 3,
   "metadata": {},
   "outputs": [
    {
     "name": "stdout",
     "output_type": "stream",
     "text": [
      "Added 100 to heap. Heap is now [100]\n",
      "Added 90 to heap. Heap is now [100, 90]\n",
      "Added 80 to heap. Heap is now [100, 90, 80]\n",
      "Added 70 to heap. Heap is now [100, 90, 80, 70]\n",
      "Added 60 to heap. Heap is now [100, 90, 80, 70, 60]\n",
      "Added 50 to heap. Heap is now [100, 90, 80, 70, 60, 50]\n",
      "Added 40 to heap. Heap is now [100, 90, 80, 70, 60, 50, 40]\n",
      "Added 30 to heap. Heap is now [100, 90, 80, 70, 60, 50, 40, 30]\n",
      "Added 20 to heap. Heap is now [100, 90, 80, 70, 60, 50, 40, 30, 20]\n",
      "Added 10 to heap. Heap is now [100, 90, 80, 70, 60, 50, 40, 30, 20, 10]\n",
      "Added 110 to heap. Heap is now [110, 100, 80, 70, 90, 50, 40, 30, 20, 10, 60]\n",
      "Added 120 to heap. Heap is now [120, 100, 110, 70, 90, 80, 40, 30, 20, 10, 60, 50]\n",
      "Added 130 to heap. Heap is now [130, 100, 120, 70, 90, 110, 40, 30, 20, 10, 60, 50, 80]\n",
      "Added 140 to heap. Heap is now [140, 100, 130, 70, 90, 110, 120, 30, 20, 10, 60, 50, 80, 40]\n",
      "Added 150 to heap. Heap is now [150, 100, 140, 70, 90, 110, 130, 30, 20, 10, 60, 50, 80, 40, 120]\n"
     ]
    }
   ],
   "source": [
    "def add_reheap_up(heap, data):\n",
    "    heap.append(data)\n",
    "    current_index = len(heap) - 1\n",
    "    while current_index > 0 and heap[current_index] > heap[(current_index - 1) // 2]:\n",
    "        parent_index = (current_index - 1) // 2\n",
    "        heap[current_index], heap[parent_index] = heap[parent_index], heap[current_index]\n",
    "        current_index = parent_index\n",
    "    print(\"Added\", data, \"to heap. Heap is now\", heap)\n",
    "\n",
    "li = []\n",
    "add_reheap_up(li, 100)\n",
    "add_reheap_up(li, 90)\n",
    "add_reheap_up(li, 80)\n",
    "add_reheap_up(li, 70)\n",
    "add_reheap_up(li, 60)\n",
    "add_reheap_up(li, 50)\n",
    "add_reheap_up(li, 40)\n",
    "add_reheap_up(li, 30)\n",
    "add_reheap_up(li, 20)\n",
    "add_reheap_up(li, 10)\n",
    "add_reheap_up(li, 110)\n",
    "add_reheap_up(li, 120)\n",
    "add_reheap_up(li, 130)\n",
    "add_reheap_up(li, 140)\n",
    "add_reheap_up(li, 150)\n",
    "\n"
   ]
  },
  {
   "cell_type": "code",
   "execution_count": null,
   "metadata": {},
   "outputs": [],
   "source": [
    "def remove_reheap_down(heap):\n",
    "    remove_data = heap[0]\n",
    "    heap[0] = heap.pop()\n",
    "\n",
    "    current_index = 0\n",
    "    while True:\n",
    "        left_child_index = 2 * current_index + 1\n",
    "        right_child_index = 2 * current_index + 2\n",
    "        small = current_index\n",
    "\n",
    "        if left_child_index < len(heap) and heap[left_child_index] > heap[small]:\n",
    "            #finding out the smallest one\n",
    "            small = left_child_index\n",
    "\n",
    "        if right_child_index < len(heap) and heap[right_child_index] > heap[small]:\n",
    "            #finding out the smallest one\n",
    "            small = right_child_index\n",
    "\n",
    "        \n",
    "\n",
    "        \n"
   ]
  }
 ],
 "metadata": {
  "kernelspec": {
   "display_name": "base",
   "language": "python",
   "name": "python3"
  },
  "language_info": {
   "codemirror_mode": {
    "name": "ipython",
    "version": 3
   },
   "file_extension": ".py",
   "mimetype": "text/x-python",
   "name": "python",
   "nbconvert_exporter": "python",
   "pygments_lexer": "ipython3",
   "version": "3.9.13"
  }
 },
 "nbformat": 4,
 "nbformat_minor": 2
}
